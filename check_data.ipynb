{
 "cells": [
  {
   "cell_type": "code",
   "execution_count": 1,
   "metadata": {},
   "outputs": [],
   "source": [
    "from glob import glob\n",
    "from datasets import Dataset, load_dataset\n",
    "import numpy as np\n",
    "import pandas as pd\n",
    "from pprint import pprint\n",
    "import os\n",
    "import random\n",
    "import json\n",
    "from tqdm import tqdm\n",
    "import pickle"
   ]
  },
  {
   "cell_type": "code",
   "execution_count": 2,
   "metadata": {},
   "outputs": [],
   "source": [
    "with open(\"./data/factkg/factkg_train.pickle\", \"rb\") as f:\n",
    "    train_data = pickle.load(f)\n",
    "\n",
    "claims = list(train_data.keys())"
   ]
  },
  {
   "cell_type": "code",
   "execution_count": 4,
   "metadata": {},
   "outputs": [
    {
     "name": "stdout",
     "output_type": "stream",
     "text": [
      "Interestingly, Nobleford Village Council is the leader of Belgium.\n",
      "Label: [False]\n",
      "Entity_set: ['Belgium', '\"Nobleford Village Council\"']\n",
      "Evidence: {'Belgium': [['leaderName']], '\"Nobleford Village Council\"': [['~leaderName']]}\n",
      "types: ['coll:model', 'num1', 'substitution']\n"
     ]
    }
   ],
   "source": [
    "key = random.choice(claims)\n",
    "print(key)\n",
    "for k, v in train_data[key].items():\n",
    "  print(f\"{k}: {v}\")"
   ]
  },
  {
   "cell_type": "code",
   "execution_count": null,
   "metadata": {},
   "outputs": [],
   "source": [
    "def convert_to_triplets(graph):\n",
    "    triplets = set()\n",
    "\n",
    "    for entity, relations in graph.items():\n",
    "        for relation in relations:\n",
    "            rel_type = relation[0]\n",
    "\n",
    "            if rel_type.startswith(\"~\"):\n",
    "                # Reverse relation\n",
    "                rel_type = rel_type[1:]\n",
    "                triplet = (relation[1], rel_type, entity)\n",
    "            else:\n",
    "                # Regular relation\n",
    "                triplet = (entity, rel_type, relation[1])\n",
    "\n",
    "            # Add triplet to set to avoid duplicates\n",
    "            triplets.add(triplet)\n",
    "\n",
    "    # Print triplets in required format\n",
    "    for triplet in triplets:\n",
    "        print(\" || \".join(triplet))\n",
    "\n",
    "\n",
    "convert_to_triplets(train_data[random.choice(claims)]['Evidence'])"
   ]
  },
  {
   "cell_type": "code",
   "execution_count": null,
   "metadata": {},
   "outputs": [],
   "source": [
    "train_data[random.choice(claims)][\"Evidence\"]"
   ]
  },
  {
   "cell_type": "code",
   "execution_count": 1,
   "metadata": {},
   "outputs": [],
   "source": [
    "def hello():\n",
    "    print(\"Hello, World!\")\n",
    "    return \"Hello, World!\""
   ]
  },
  {
   "cell_type": "code",
   "execution_count": 1,
   "metadata": {},
   "outputs": [
    {
     "data": {
      "text/plain": [
       "ChatCompletion(id='chatcmpl-AUE9xJmY2adrdcLBZAmJy8z7h3D1J', choices=[Choice(finish_reason='stop', index=0, logprobs=None, message=ChatCompletionMessage(content='Hello! How can I assist you today?', role='assistant', function_call=None, tool_calls=None, refusal=None))], created=1731767633, model='gpt-4o-mini-2024-07-18', object='chat.completion', system_fingerprint='fp_0ba0d124f1', usage=CompletionUsage(completion_tokens=9, prompt_tokens=8, total_tokens=17, prompt_tokens_details={'cached_tokens': 0, 'audio_tokens': 0}, completion_tokens_details={'reasoning_tokens': 0, 'audio_tokens': 0, 'accepted_prediction_tokens': 0, 'rejected_prediction_tokens': 0}))"
      ]
     },
     "execution_count": 1,
     "metadata": {},
     "output_type": "execute_result"
    }
   ],
   "source": [
    "from openai_utils import get_completion\n",
    "get_completion(\"hello\")"
   ]
  },
  {
   "cell_type": "code",
   "execution_count": null,
   "metadata": {},
   "outputs": [],
   "source": [
    "ChatCompletion(\n",
    "    id=\"chatcmpl-AUE9xJmY2adrdcLBZAmJy8z7h3D1J\",\n",
    "    choices=[\n",
    "        Choice(\n",
    "            finish_reason=\"stop\",\n",
    "            index=0,\n",
    "            logprobs=None,\n",
    "            message=ChatCompletionMessage(\n",
    "                content=\"Hello! How can I assist you today?\",\n",
    "                role=\"assistant\",\n",
    "                function_call=None,\n",
    "                tool_calls=None,\n",
    "                refusal=None,\n",
    "            ),\n",
    "        )\n",
    "    ],\n",
    "    created=1731767633,\n",
    "    model=\"gpt-4o-mini-2024-07-18\",\n",
    "    object=\"chat.completion\",\n",
    "    system_fingerprint=\"fp_0ba0d124f1\",\n",
    "    usage=CompletionUsage(\n",
    "        completion_tokens=9,\n",
    "        prompt_tokens=8,\n",
    "        total_tokens=17,\n",
    "        prompt_tokens_details={\"cached_tokens\": 0, \"audio_tokens\": 0},\n",
    "        completion_tokens_details={\n",
    "            \"reasoning_tokens\": 0,\n",
    "            \"audio_tokens\": 0,\n",
    "            \"accepted_prediction_tokens\": 0,\n",
    "            \"rejected_prediction_tokens\": 0,\n",
    "        },\n",
    "    ),\n",
    ")"
   ]
  }
 ],
 "metadata": {
  "kernelspec": {
   "display_name": "Python 3",
   "language": "python",
   "name": "python3"
  },
  "language_info": {
   "codemirror_mode": {
    "name": "ipython",
    "version": 3
   },
   "file_extension": ".py",
   "mimetype": "text/x-python",
   "name": "python",
   "nbconvert_exporter": "python",
   "pygments_lexer": "ipython3",
   "version": "3.10.7"
  }
 },
 "nbformat": 4,
 "nbformat_minor": 2
}
