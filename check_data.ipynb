{
 "cells": [
  {
   "cell_type": "code",
   "execution_count": 2,
   "metadata": {},
   "outputs": [],
   "source": [
    "from glob import glob\n",
    "from datasets import Dataset, load_dataset\n",
    "import numpy as np\n",
    "import pandas as pd\n",
    "from pprint import pprint\n",
    "import os\n",
    "import random\n",
    "import json\n",
    "from tqdm import tqdm\n",
    "import pickle"
   ]
  },
  {
   "cell_type": "code",
   "execution_count": 7,
   "metadata": {},
   "outputs": [],
   "source": [
    "with open(\"./data/factkg/factkg_train.pickle\", \"rb\") as f:\n",
    "    train_data = pickle.load(f)\n",
    "\n",
    "claims = list(train_data.keys())"
   ]
  },
  {
   "cell_type": "code",
   "execution_count": 119,
   "metadata": {},
   "outputs": [
    {
     "name": "stdout",
     "output_type": "stream",
     "text": [
      "Cornell University is affiliated with the Association of American Universities and they publish Administrative Science Quarterly.\n",
      "Label: [True]\n",
      "Entity_set: ['Association_of_American_Universities', 'Cornell_University', 'Administrative_Science_Quarterly']\n",
      "Evidence: {'Administrative_Science_Quarterly': [['publisher']], 'Cornell_University': [['affiliations'], ['~publisher']], 'Association_of_American_Universities': [['~affiliations']]}\n",
      "types: ['coll:model', 'num2', 'multi claim']\n"
     ]
    }
   ],
   "source": [
    "key = random.choice(claims)\n",
    "print(key)\n",
    "for k, v in train_data[key].items():\n",
    "  print(f\"{k}: {v}\")"
   ]
  },
  {
   "cell_type": "code",
   "execution_count": 121,
   "metadata": {},
   "outputs": [
    {
     "ename": "IndexError",
     "evalue": "list index out of range",
     "output_type": "error",
     "traceback": [
      "\u001b[0;31m---------------------------------------------------------------------------\u001b[0m",
      "\u001b[0;31mIndexError\u001b[0m                                Traceback (most recent call last)",
      "Input \u001b[0;32mIn [121]\u001b[0m, in \u001b[0;36m<cell line: 24>\u001b[0;34m()\u001b[0m\n\u001b[1;32m     20\u001b[0m     \u001b[38;5;28;01mfor\u001b[39;00m triplet \u001b[38;5;129;01min\u001b[39;00m triplets:\n\u001b[1;32m     21\u001b[0m         \u001b[38;5;28mprint\u001b[39m(\u001b[38;5;124m\"\u001b[39m\u001b[38;5;124m || \u001b[39m\u001b[38;5;124m\"\u001b[39m\u001b[38;5;241m.\u001b[39mjoin(triplet))\n\u001b[0;32m---> 24\u001b[0m \u001b[43mconvert_to_triplets\u001b[49m\u001b[43m(\u001b[49m\u001b[43mtrain_data\u001b[49m\u001b[43m[\u001b[49m\u001b[43mrandom\u001b[49m\u001b[38;5;241;43m.\u001b[39;49m\u001b[43mchoice\u001b[49m\u001b[43m(\u001b[49m\u001b[43mclaims\u001b[49m\u001b[43m)\u001b[49m\u001b[43m]\u001b[49m\u001b[43m[\u001b[49m\u001b[38;5;124;43m'\u001b[39;49m\u001b[38;5;124;43mEvidence\u001b[39;49m\u001b[38;5;124;43m'\u001b[39;49m\u001b[43m]\u001b[49m\u001b[43m)\u001b[49m\n",
      "Input \u001b[0;32mIn [121]\u001b[0m, in \u001b[0;36mconvert_to_triplets\u001b[0;34m(graph)\u001b[0m\n\u001b[1;32m     11\u001b[0m     triplet \u001b[38;5;241m=\u001b[39m (relation[\u001b[38;5;241m1\u001b[39m], rel_type, entity)\n\u001b[1;32m     12\u001b[0m \u001b[38;5;28;01melse\u001b[39;00m:\n\u001b[1;32m     13\u001b[0m     \u001b[38;5;66;03m# Regular relation\u001b[39;00m\n\u001b[0;32m---> 14\u001b[0m     triplet \u001b[38;5;241m=\u001b[39m (entity, rel_type, \u001b[43mrelation\u001b[49m\u001b[43m[\u001b[49m\u001b[38;5;241;43m1\u001b[39;49m\u001b[43m]\u001b[49m)\n\u001b[1;32m     16\u001b[0m \u001b[38;5;66;03m# Add triplet to set to avoid duplicates\u001b[39;00m\n\u001b[1;32m     17\u001b[0m triplets\u001b[38;5;241m.\u001b[39madd(triplet)\n",
      "\u001b[0;31mIndexError\u001b[0m: list index out of range"
     ]
    }
   ],
   "source": [
    "def convert_to_triplets(graph):\n",
    "    triplets = set()\n",
    "\n",
    "    for entity, relations in graph.items():\n",
    "        for relation in relations:\n",
    "            rel_type = relation[0]\n",
    "\n",
    "            if rel_type.startswith(\"~\"):\n",
    "                # Reverse relation\n",
    "                rel_type = rel_type[1:]\n",
    "                triplet = (relation[1], rel_type, entity)\n",
    "            else:\n",
    "                # Regular relation\n",
    "                triplet = (entity, rel_type, relation[1])\n",
    "\n",
    "            # Add triplet to set to avoid duplicates\n",
    "            triplets.add(triplet)\n",
    "\n",
    "    # Print triplets in required format\n",
    "    for triplet in triplets:\n",
    "        print(\" || \".join(triplet))\n",
    "\n",
    "\n",
    "convert_to_triplets(train_data[random.choice(claims)]['Evidence'])"
   ]
  },
  {
   "cell_type": "code",
   "execution_count": 122,
   "metadata": {},
   "outputs": [
    {
     "data": {
      "text/plain": [
       "{'\"5.57\"': [['~Planet/orbitalPeriod', 'Planet/apoapsis']],\n",
       " '\"5.2395158233968E8\"': [['~Planet/apoapsis', 'Planet/orbitalPeriod']]}"
      ]
     },
     "execution_count": 122,
     "metadata": {},
     "output_type": "execute_result"
    }
   ],
   "source": [
    "train_data[random.choice(claims)][\"Evidence\"]"
   ]
  },
  {
   "cell_type": "code",
   "execution_count": null,
   "metadata": {},
   "outputs": [],
   "source": []
  }
 ],
 "metadata": {
  "kernelspec": {
   "display_name": "Python 3",
   "language": "python",
   "name": "python3"
  },
  "language_info": {
   "codemirror_mode": {
    "name": "ipython",
    "version": 3
   },
   "file_extension": ".py",
   "mimetype": "text/x-python",
   "name": "python",
   "nbconvert_exporter": "python",
   "pygments_lexer": "ipython3",
   "version": "3.10.7"
  }
 },
 "nbformat": 4,
 "nbformat_minor": 2
}
